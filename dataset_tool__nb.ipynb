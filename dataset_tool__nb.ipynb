{
 "cells": [
  {
   "cell_type": "code",
   "execution_count": 1,
   "id": "5df164d9",
   "metadata": {},
   "outputs": [
    {
     "name": "stdout",
     "output_type": "stream",
     "text": [
      "Usage: dataset_tool.py [OPTIONS]\r\n",
      "Try 'dataset_tool.py --help' for help.\r\n",
      "\r\n",
      "Error: No such option: --output_dir\r\n"
     ]
    }
   ],
   "source": [
    "!python dataset_tool.py extract_brecahad_crops --transform=center-crop-wide --width 512 \\\n",
    "    --dest=/tmp/brecahad-crops --source=~/downloads/brecahad/images"
   ]
  },
  {
   "cell_type": "code",
   "execution_count": 2,
   "id": "3d8eb377",
   "metadata": {
    "scrolled": true
   },
   "outputs": [
    {
     "name": "stdout",
     "output_type": "stream",
     "text": [
      "Usage: dataset_tool.py [OPTIONS]\r\n",
      "\r\n",
      "  Convert an image dataset into a dataset archive usable with StyleGAN2 ADA\r\n",
      "  PyTorch.\r\n",
      "\r\n",
      "  The input dataset format is guessed from the --source argument:\r\n",
      "\r\n",
      "  --source *_lmdb/                    Load LSUN dataset\r\n",
      "  --source cifar-10-python.tar.gz     Load CIFAR-10 dataset\r\n",
      "  --source train-images-idx3-ubyte.gz Load MNIST dataset\r\n",
      "  --source path/                      Recursively load all images from path/\r\n",
      "  --source dataset.zip                Recursively load all images from dataset.zip\r\n",
      "\r\n",
      "  Specifying the output format and path:\r\n",
      "\r\n",
      "  --dest /path/to/dir                 Save output files under /path/to/dir\r\n",
      "  --dest /path/to/dataset.zip         Save output files into /path/to/dataset.zip\r\n",
      "\r\n",
      "  The output dataset format can be either an image folder or an uncompressed\r\n",
      "  zip archive. Zip archives makes it easier to move datasets around file\r\n",
      "  servers and clusters, and may offer better training performance on network\r\n",
      "  file systems.\r\n",
      "\r\n",
      "  Images within the dataset archive will be stored as uncompressed PNG.\r\n",
      "  Uncompresed PNGs can be efficiently decoded in the training loop.\r\n",
      "\r\n",
      "  Class labels are stored in a file called 'dataset.json' that is stored at\r\n",
      "  the dataset root folder.  This file has the following structure:\r\n",
      "\r\n",
      "  {\r\n",
      "      \"labels\": [\r\n",
      "          [\"00000/img00000000.png\",6],\r\n",
      "          [\"00000/img00000001.png\",9],\r\n",
      "          ... repeated for every image in the datase\r\n",
      "          [\"00049/img00049999.png\",1]\r\n",
      "      ]\r\n",
      "  }\r\n",
      "\r\n",
      "  If the 'dataset.json' file cannot be found, the dataset is interpreted as\r\n",
      "  not containing class labels.\r\n",
      "\r\n",
      "  Image scale/crop and resolution requirements:\r\n",
      "\r\n",
      "  Output images must be square-shaped and they must all have the same power-\r\n",
      "  of-two dimensions.\r\n",
      "\r\n",
      "  To scale arbitrary input image size to a specific width and height, use the\r\n",
      "  --width and --height options.  Output resolution will be either the original\r\n",
      "  input resolution (if --width/--height was not specified) or the one\r\n",
      "  specified with --width/height.\r\n",
      "\r\n",
      "  Use the --transform=center-crop or --transform=center-crop-wide options to\r\n",
      "  apply a center crop transform on the input image.  These options should be\r\n",
      "  used with the --width and --height options.  For example:\r\n",
      "\r\n",
      "  python dataset_tool.py --source LSUN/raw/cat_lmdb --dest /tmp/lsun_cat \\\r\n",
      "      --transform=center-crop-wide --width 512 --height=384\r\n",
      "\r\n",
      "Options:\r\n",
      "  --source PATH                   Directory or archive name for input dataset\r\n",
      "                                  [required]\r\n",
      "  --dest PATH                     Output directory or archive name for output\r\n",
      "                                  dataset  [required]\r\n",
      "  --max-images INTEGER            Output only up to `max-images` images\r\n",
      "  --resize-filter [box|lanczos]   Filter to use when resizing images for\r\n",
      "                                  output resolution  [default: lanczos]\r\n",
      "  --transform [center-crop|center-crop-wide]\r\n",
      "                                  Input crop/resize mode\r\n",
      "  --width INTEGER                 Output width\r\n",
      "  --height INTEGER                Output height\r\n",
      "  --help                          Show this message and exit.\r\n"
     ]
    }
   ],
   "source": [
    "!python dataset_tool.py --help"
   ]
  }
 ],
 "metadata": {
  "kernelspec": {
   "display_name": "Python 3",
   "language": "python",
   "name": "python3"
  },
  "language_info": {
   "codemirror_mode": {
    "name": "ipython",
    "version": 3
   },
   "file_extension": ".py",
   "mimetype": "text/x-python",
   "name": "python",
   "nbconvert_exporter": "python",
   "pygments_lexer": "ipython3",
   "version": "3.7.10"
  }
 },
 "nbformat": 4,
 "nbformat_minor": 5
}
